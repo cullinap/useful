{
 "cells": [
  {
   "cell_type": "code",
   "execution_count": 5,
   "metadata": {},
   "outputs": [
    {
     "data": {
      "text/plain": [
       "3"
      ]
     },
     "execution_count": 5,
     "metadata": {},
     "output_type": "execute_result"
    }
   ],
   "source": [
    "import itertools, operator\n",
    "\n",
    "#subtract each row and multiply each result by eachother 2-5,3-4,8-7...-3*-1*1\n",
    "\n",
    "data = [[2,5],\n",
    "        [3,4],\n",
    "        [8,7]]\n",
    "\n",
    "[x for x in itertools.accumulate([i[0]-i[1] for i in data], operator.mul)][len([i[0]-i[1] for i in data])-1]"
   ]
  },
  {
   "cell_type": "code",
   "execution_count": 6,
   "metadata": {},
   "outputs": [
    {
     "ename": "NameError",
     "evalue": "name 'sort_df' is not defined",
     "output_type": "error",
     "traceback": [
      "\u001b[0;31m---------------------------------------------------------------------------\u001b[0m",
      "\u001b[0;31mNameError\u001b[0m                                 Traceback (most recent call last)",
      "\u001b[0;32m<ipython-input-6-ee18a89cc625>\u001b[0m in \u001b[0;36m<module>\u001b[0;34m\u001b[0m\n\u001b[1;32m     13\u001b[0m \u001b[0;32mfor\u001b[0m \u001b[0mx\u001b[0m\u001b[0;34m,\u001b[0m\u001b[0mz\u001b[0m \u001b[0;32min\u001b[0m \u001b[0mlist\u001b[0m\u001b[0;34m(\u001b[0m\u001b[0mzip\u001b[0m\u001b[0;34m(\u001b[0m\u001b[0mnetflix\u001b[0m\u001b[0;34m,\u001b[0m\u001b[0mdates\u001b[0m\u001b[0;34m)\u001b[0m\u001b[0;34m)\u001b[0m\u001b[0;34m:\u001b[0m\u001b[0;34m\u001b[0m\u001b[0;34m\u001b[0m\u001b[0m\n\u001b[1;32m     14\u001b[0m     \u001b[0mstartdate\u001b[0m \u001b[0;34m=\u001b[0m \u001b[0mz\u001b[0m\u001b[0;34m\u001b[0m\u001b[0;34m\u001b[0m\u001b[0m\n\u001b[0;32m---> 15\u001b[0;31m     sort_ = sort_df[(sort_df['term']==x) \n\u001b[0m\u001b[1;32m     16\u001b[0m             \u001b[0;34m&\u001b[0m \u001b[0;34m(\u001b[0m\u001b[0msort_df\u001b[0m\u001b[0;34m[\u001b[0m\u001b[0;34m'published'\u001b[0m\u001b[0;34m]\u001b[0m\u001b[0;34m>=\u001b[0m\u001b[0mstartdate\u001b[0m\u001b[0;34m)\u001b[0m\u001b[0;34m\u001b[0m\u001b[0;34m\u001b[0m\u001b[0m\n\u001b[1;32m     17\u001b[0m             & (sort_df['published']<= pd.to_datetime(startdate) + pd.DateOffset(days=28))]\n",
      "\u001b[0;31mNameError\u001b[0m: name 'sort_df' is not defined"
     ]
    }
   ],
   "source": [
    "netflix=['Secret Obsession',\n",
    "        'La Casa',\n",
    "        'Otherhood',\n",
    "        'Tall Girl',\n",
    "        'Unbelievable']\n",
    "\n",
    "dates = ['2019-07-18',\n",
    "         '2019-07-19',\n",
    "         '2019-07-21',\n",
    "         '2019-09-13',\n",
    "         '2019-09-13']\n",
    "\n",
    "for x,z in list(zip(netflix,dates)):\n",
    "    startdate = z\n",
    "    sort_ = sort_df[(sort_df['term']==x) \n",
    "            & (sort_df['published']>=startdate)\n",
    "            & (sort_df['published']<= pd.to_datetime(startdate) + pd.DateOffset(days=28))]\n",
    "\n",
    "    print(x,round(sort_['momentum'].mean()))\n"
   ]
  },
  {
   "cell_type": "markdown",
   "metadata": {},
   "source": [
    "##### Combine 4 lists into a dataframe log transform one column"
   ]
  },
  {
   "cell_type": "code",
   "execution_count": 98,
   "metadata": {},
   "outputs": [
    {
     "data": {
      "text/html": [
       "<div>\n",
       "<style scoped>\n",
       "    .dataframe tbody tr th:only-of-type {\n",
       "        vertical-align: middle;\n",
       "    }\n",
       "\n",
       "    .dataframe tbody tr th {\n",
       "        vertical-align: top;\n",
       "    }\n",
       "\n",
       "    .dataframe thead th {\n",
       "        text-align: right;\n",
       "    }\n",
       "</style>\n",
       "<table border=\"1\" class=\"dataframe\">\n",
       "  <thead>\n",
       "    <tr style=\"text-align: right;\">\n",
       "      <th></th>\n",
       "      <th>Name</th>\n",
       "      <th>touchdowns</th>\n",
       "      <th>hand_size</th>\n",
       "      <th>weight</th>\n",
       "    </tr>\n",
       "  </thead>\n",
       "  <tbody>\n",
       "    <tr>\n",
       "      <td>0</td>\n",
       "      <td>plyr_1</td>\n",
       "      <td>8</td>\n",
       "      <td>9.0</td>\n",
       "      <td>2.301030</td>\n",
       "    </tr>\n",
       "    <tr>\n",
       "      <td>1</td>\n",
       "      <td>plyr_2</td>\n",
       "      <td>9</td>\n",
       "      <td>8.0</td>\n",
       "      <td>2.290035</td>\n",
       "    </tr>\n",
       "    <tr>\n",
       "      <td>2</td>\n",
       "      <td>plyr_3</td>\n",
       "      <td>10</td>\n",
       "      <td>8.5</td>\n",
       "      <td>2.311754</td>\n",
       "    </tr>\n",
       "  </tbody>\n",
       "</table>\n",
       "</div>"
      ],
      "text/plain": [
       "     Name  touchdowns  hand_size    weight\n",
       "0  plyr_1           8        9.0  2.301030\n",
       "1  plyr_2           9        8.0  2.290035\n",
       "2  plyr_3          10        8.5  2.311754"
      ]
     },
     "execution_count": 98,
     "metadata": {},
     "output_type": "execute_result"
    }
   ],
   "source": [
    "players = ['plyr_1','plyr_2','plyr_3']\n",
    "touch_down = [8,9,10]\n",
    "hand_size = [9,8,8.5]\n",
    "weight = [200,195,205]\n",
    "\n",
    "df = pd.DataFrame.from_dict({i: player for i,player in enumerate([[player,touch_down,hand_size,weight] \n",
    "                            for player,touch_down,hand_size,weight in zip(players,touch_down,hand_size,weight)])},\n",
    "                            orient='index',\n",
    "                            columns=['Name',\n",
    "                                     'touchdowns',\n",
    "                                     'hand_size',\n",
    "                                     'weight']\n",
    "                      )\n",
    "\n",
    "\n",
    "df['weight'] = df['weight'].apply(lambda x: np.log10(x)); df"
   ]
  },
  {
   "cell_type": "markdown",
   "metadata": {},
   "source": [
    "##### Sort dataframe based on column value"
   ]
  },
  {
   "cell_type": "code",
   "execution_count": 68,
   "metadata": {},
   "outputs": [
    {
     "data": {
      "text/html": [
       "<div>\n",
       "<style scoped>\n",
       "    .dataframe tbody tr th:only-of-type {\n",
       "        vertical-align: middle;\n",
       "    }\n",
       "\n",
       "    .dataframe tbody tr th {\n",
       "        vertical-align: top;\n",
       "    }\n",
       "\n",
       "    .dataframe thead th {\n",
       "        text-align: right;\n",
       "    }\n",
       "</style>\n",
       "<table border=\"1\" class=\"dataframe\">\n",
       "  <thead>\n",
       "    <tr style=\"text-align: right;\">\n",
       "      <th></th>\n",
       "      <th>mentions</th>\n",
       "      <th>reach</th>\n",
       "      <th>url</th>\n",
       "      <th>term</th>\n",
       "    </tr>\n",
       "  </thead>\n",
       "  <tbody>\n",
       "    <tr>\n",
       "      <td>0</td>\n",
       "      <td>5</td>\n",
       "      <td>9</td>\n",
       "      <td>1</td>\n",
       "      <td>Andrew Yang</td>\n",
       "    </tr>\n",
       "    <tr>\n",
       "      <td>1</td>\n",
       "      <td>7</td>\n",
       "      <td>2</td>\n",
       "      <td>1</td>\n",
       "      <td>Elizabeth Warren</td>\n",
       "    </tr>\n",
       "    <tr>\n",
       "      <td>2</td>\n",
       "      <td>8</td>\n",
       "      <td>7</td>\n",
       "      <td>1</td>\n",
       "      <td>Bernie Sanders</td>\n",
       "    </tr>\n",
       "    <tr>\n",
       "      <td>3</td>\n",
       "      <td>3</td>\n",
       "      <td>1</td>\n",
       "      <td>9</td>\n",
       "      <td>Dr. Phil</td>\n",
       "    </tr>\n",
       "    <tr>\n",
       "      <td>4</td>\n",
       "      <td>8</td>\n",
       "      <td>9</td>\n",
       "      <td>2</td>\n",
       "      <td>Oprah</td>\n",
       "    </tr>\n",
       "  </tbody>\n",
       "</table>\n",
       "</div>"
      ],
      "text/plain": [
       "   mentions  reach  url              term\n",
       "0         5      9    1       Andrew Yang\n",
       "1         7      2    1  Elizabeth Warren\n",
       "2         8      7    1    Bernie Sanders\n",
       "3         3      1    9          Dr. Phil\n",
       "4         8      9    2             Oprah"
      ]
     },
     "execution_count": 68,
     "metadata": {},
     "output_type": "execute_result"
    }
   ],
   "source": [
    "import pandas as pd\n",
    "import numpy as np\n",
    "\n",
    "#create dataframe\n",
    "social_data = pd.DataFrame.from_dict({i: np.random.randint(1,10,5) for i in ['mentions','reach','url']})\n",
    "social_data['term'] = ['Andrew Yang',\n",
    "                       'Elizabeth Warren',\n",
    "                       'Bernie Sanders',\n",
    "                       'Dr. Phil',\n",
    "                       'Oprah']\n",
    "\n",
    "social_data"
   ]
  },
  {
   "cell_type": "code",
   "execution_count": 69,
   "metadata": {},
   "outputs": [
    {
     "data": {
      "text/html": [
       "<div>\n",
       "<style scoped>\n",
       "    .dataframe tbody tr th:only-of-type {\n",
       "        vertical-align: middle;\n",
       "    }\n",
       "\n",
       "    .dataframe tbody tr th {\n",
       "        vertical-align: top;\n",
       "    }\n",
       "\n",
       "    .dataframe thead th {\n",
       "        text-align: right;\n",
       "    }\n",
       "</style>\n",
       "<table border=\"1\" class=\"dataframe\">\n",
       "  <thead>\n",
       "    <tr style=\"text-align: right;\">\n",
       "      <th></th>\n",
       "      <th>mentions</th>\n",
       "      <th>reach</th>\n",
       "      <th>url</th>\n",
       "      <th>term</th>\n",
       "    </tr>\n",
       "  </thead>\n",
       "  <tbody>\n",
       "    <tr>\n",
       "      <td>0</td>\n",
       "      <td>5</td>\n",
       "      <td>9</td>\n",
       "      <td>1</td>\n",
       "      <td>Andrew Yang</td>\n",
       "    </tr>\n",
       "    <tr>\n",
       "      <td>1</td>\n",
       "      <td>7</td>\n",
       "      <td>2</td>\n",
       "      <td>1</td>\n",
       "      <td>Elizabeth Warren</td>\n",
       "    </tr>\n",
       "    <tr>\n",
       "      <td>2</td>\n",
       "      <td>8</td>\n",
       "      <td>7</td>\n",
       "      <td>1</td>\n",
       "      <td>Bernie Sanders</td>\n",
       "    </tr>\n",
       "  </tbody>\n",
       "</table>\n",
       "</div>"
      ],
      "text/plain": [
       "   mentions  reach  url              term\n",
       "0         5      9    1       Andrew Yang\n",
       "1         7      2    1  Elizabeth Warren\n",
       "2         8      7    1    Bernie Sanders"
      ]
     },
     "execution_count": 69,
     "metadata": {},
     "output_type": "execute_result"
    }
   ],
   "source": [
    "#sort just row values based on list\n",
    "entities = ['Andrew Yang',\n",
    "            'Elizabeth Warren',\n",
    "            'Bernie Sanders']\n",
    "\n",
    "social_data.loc[social_data['term'].isin(entities)].reset_index(drop=True)"
   ]
  },
  {
   "cell_type": "markdown",
   "metadata": {},
   "source": [
    "##### Subtract column values from two equal sized dataframes excluding certain columns"
   ]
  },
  {
   "cell_type": "code",
   "execution_count": 64,
   "metadata": {},
   "outputs": [
    {
     "data": {
      "text/html": [
       "<div>\n",
       "<style scoped>\n",
       "    .dataframe tbody tr th:only-of-type {\n",
       "        vertical-align: middle;\n",
       "    }\n",
       "\n",
       "    .dataframe tbody tr th {\n",
       "        vertical-align: top;\n",
       "    }\n",
       "\n",
       "    .dataframe thead th {\n",
       "        text-align: right;\n",
       "    }\n",
       "</style>\n",
       "<table border=\"1\" class=\"dataframe\">\n",
       "  <thead>\n",
       "    <tr style=\"text-align: right;\">\n",
       "      <th></th>\n",
       "      <th>C</th>\n",
       "      <th>D</th>\n",
       "      <th>E</th>\n",
       "    </tr>\n",
       "  </thead>\n",
       "  <tbody>\n",
       "    <tr>\n",
       "      <td>0</td>\n",
       "      <td>4</td>\n",
       "      <td>0</td>\n",
       "      <td>-1</td>\n",
       "    </tr>\n",
       "    <tr>\n",
       "      <td>1</td>\n",
       "      <td>7</td>\n",
       "      <td>6</td>\n",
       "      <td>6</td>\n",
       "    </tr>\n",
       "    <tr>\n",
       "      <td>2</td>\n",
       "      <td>2</td>\n",
       "      <td>2</td>\n",
       "      <td>-1</td>\n",
       "    </tr>\n",
       "    <tr>\n",
       "      <td>3</td>\n",
       "      <td>5</td>\n",
       "      <td>6</td>\n",
       "      <td>5</td>\n",
       "    </tr>\n",
       "    <tr>\n",
       "      <td>4</td>\n",
       "      <td>0</td>\n",
       "      <td>-2</td>\n",
       "      <td>2</td>\n",
       "    </tr>\n",
       "  </tbody>\n",
       "</table>\n",
       "</div>"
      ],
      "text/plain": [
       "   C  D  E\n",
       "0  4  0 -1\n",
       "1  7  6  6\n",
       "2  2  2 -1\n",
       "3  5  6  5\n",
       "4  0 -2  2"
      ]
     },
     "execution_count": 64,
     "metadata": {},
     "output_type": "execute_result"
    }
   ],
   "source": [
    "import pandas as pd\n",
    "import numpy as np\n",
    "\n",
    "#create two dataframes with 5 columns and 5 rows filled with random numbers\n",
    "data = {i: pd.DataFrame.from_dict(\n",
    "            {i: np.random.randint(1,10,5) for i in [chr(65+c) for c in range(5)]}\n",
    "    ) for i in ['df_1', 'df_2']}\n",
    "\n",
    "#find the difference of each column value in the two dataframes excluding cols A & B\n",
    "pd.DataFrame.from_dict({t: [f[1]-f[0] for f in list(zip(data['df_1'][t], data['df_2'][t]))] \n",
    "                                   for t in [c for c in data['df_1'].columns if c not in set(['A','B'])]})"
   ]
  },
  {
   "cell_type": "code",
   "execution_count": null,
   "metadata": {},
   "outputs": [],
   "source": []
  }
 ],
 "metadata": {
  "kernelspec": {
   "display_name": "Python (fast_ai)",
   "language": "python",
   "name": "fast_ai"
  },
  "language_info": {
   "codemirror_mode": {
    "name": "ipython",
    "version": 3
   },
   "file_extension": ".py",
   "mimetype": "text/x-python",
   "name": "python",
   "nbconvert_exporter": "python",
   "pygments_lexer": "ipython3",
   "version": "3.7.3"
  }
 },
 "nbformat": 4,
 "nbformat_minor": 2
}
