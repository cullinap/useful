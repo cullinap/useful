{
 "cells": [
  {
   "cell_type": "code",
   "execution_count": 3,
   "metadata": {},
   "outputs": [],
   "source": [
    "import numpy as np\n",
    "import os"
   ]
  },
  {
   "cell_type": "markdown",
   "metadata": {},
   "source": [
    "\\begin{pmatrix} \n",
    "a & b \\\\\n",
    "c & d \n",
    "\\end{pmatrix}"
   ]
  },
  {
   "cell_type": "code",
   "execution_count": 19,
   "metadata": {},
   "outputs": [],
   "source": [
    "s_0 = np.array([0.1, 0.9])\n",
    "\n",
    "tm = np.array([[.8, .2],\n",
    "               [.6, .4]])"
   ]
  },
  {
   "cell_type": "markdown",
   "metadata": {},
   "source": [
    "Regular markov chains\n",
    "Steady state - conver"
   ]
  },
  {
   "cell_type": "code",
   "execution_count": 20,
   "metadata": {},
   "outputs": [
    {
     "name": "stdout",
     "output_type": "stream",
     "text": [
      "[0.62 0.38]\n",
      "[0.724 0.276]\n",
      "[0.7448 0.2552]\n",
      "[0.74896 0.25104]\n",
      "[0.749792 0.250208]\n",
      "[0.7499584 0.2500416]\n",
      "[0.74999168 0.25000832]\n",
      "[0.74999834 0.25000166]\n",
      "[0.74999967 0.25000033]\n",
      "[0.74999993 0.25000007]\n",
      "[0.74999999 0.25000001]\n",
      "[0.75 0.25]\n"
     ]
    }
   ],
   "source": [
    "for i in range(12):\n",
    "    s_0 = np.dot(s_0, tm)\n",
    "    print(s_0)"
   ]
  },
  {
   "cell_type": "code",
   "execution_count": 29,
   "metadata": {},
   "outputs": [
    {
     "data": {
      "text/plain": [
       "array([[1, 0],\n",
       "       [0, 1]])"
      ]
     },
     "execution_count": 29,
     "metadata": {},
     "output_type": "execute_result"
    }
   ],
   "source": [
    "np.array([[1, 0],\n",
    "          [0, 1]])**2"
   ]
  },
  {
   "cell_type": "code",
   "execution_count": 35,
   "metadata": {},
   "outputs": [
    {
     "data": {
      "text/plain": [
       "array([[0.04, 0.64],\n",
       "       [1.  , 0.  ]])"
      ]
     },
     "execution_count": 35,
     "metadata": {},
     "output_type": "execute_result"
    }
   ],
   "source": [
    "np.array([[.2, .8],\n",
    "          [1, 0]])**2"
   ]
  },
  {
   "cell_type": "code",
   "execution_count": 37,
   "metadata": {},
   "outputs": [],
   "source": [
    "import random\n",
    "import matplotlib.pyplot as plt"
   ]
  },
  {
   "cell_type": "code",
   "execution_count": 52,
   "metadata": {},
   "outputs": [
    {
     "data": {
      "image/png": "[encoded data removed]",
      "text/plain": [
       "<Figure size 432x288 with 1 Axes>"
      ]
     },
     "metadata": {
      "needs_background": "light"
     },
     "output_type": "display_data"
    }
   ],
   "source": [
    "a,b = 0, 4  #np.pi #limits of integration\n",
    "N = 10000\n",
    "# xrand = np.zeros(N)\n",
    "\n",
    "# for i in range(len(xrand)):\n",
    "#     xrand[i] = random.uniform(a,b)\n",
    "    \n",
    "func = lambda x: np.sin(x)\n",
    "\n",
    "integral = 0.0\n",
    "\n",
    "# for i in range(N):\n",
    "#     integral += func(xrand[i])\n",
    "    \n",
    "# answer = (b-a)/float(N)*integral\n",
    "\n",
    "areas = []\n",
    "\n",
    "for i in range(N):\n",
    "    xrand = np.zeros(N)\n",
    "    \n",
    "    for i in range(len(xrand)):\n",
    "        xrand[i] = random.uniform(a,b)\n",
    "        \n",
    "    integral = 0.0\n",
    "\n",
    "    for i in range(N):\n",
    "        integral += func(xrand[i])\n",
    "\n",
    "    answer = (b-a)/float(N)*integral\n",
    "    areas.append(answer)\n",
    "\n",
    "plt.title('Distribution of areas of calculated')    \n",
    "plt.hist(areas,bins=30,ec='black')\n",
    "plt.xlabel('areas')\n",
    "plt.show()"
   ]
  },
  {
   "cell_type": "markdown",
   "metadata": {},
   "source": [
    "### Gambler's Ruin"
   ]
  },
  {
   "cell_type": "code",
   "execution_count": 126,
   "metadata": {},
   "outputs": [
    {
     "name": "stdout",
     "output_type": "stream",
     "text": [
      "\n"
     ]
    },
    {
     "data": {
      "image/png": "[encoded data removed]",
      "text/plain": [
       "<Figure size 432x288 with 1 Axes>"
      ]
     },
     "metadata": {
      "needs_background": "light"
     },
     "output_type": "display_data"
    },
    {
     "name": "stdout",
     "output_type": "stream",
     "text": [
      "CPU times: user 737 ms, sys: 45.9 ms, total: 783 ms\n",
      "Wall time: 782 ms\n"
     ]
    }
   ],
   "source": [
    "%%time\n",
    "runs = []\n",
    "\n",
    "for x in range(100000):    \n",
    "    money = 50\n",
    "    winnings = []\n",
    "    for i in range(20):\n",
    "        if 0 < money < 75:\n",
    "            spin = random.randint(0,1)\n",
    "            if spin == 1:\n",
    "                money += 25\n",
    "            else:\n",
    "                money -= 25\n",
    "\n",
    "            winnings.append(money)\n",
    "        else:\n",
    "            break\n",
    "    \n",
    "    runs.append(winnings[-1]) #get the final count\n",
    "\n",
    "print()   \n",
    "    \n",
    "plt.hist(runs,bins=20)\n",
    "plt.show()"
   ]
  },
  {
   "cell_type": "markdown",
   "metadata": {},
   "source": [
    "showing up with $25 dollars less likely to win vs $50"
   ]
  },
  {
   "cell_type": "code",
   "execution_count": 145,
   "metadata": {},
   "outputs": [],
   "source": [
    "tm = np.array([[1,  0,  0, 0],\n",
    "               [.5, 0, .5, 0],\n",
    "               [0, .5, 0, .5],\n",
    "               [0,  0, 0,  1]]\n",
    "            )"
   ]
  },
  {
   "cell_type": "code",
   "execution_count": 149,
   "metadata": {},
   "outputs": [
    {
     "data": {
      "text/plain": [
       "array([[1.  , 0.  , 0.  , 0.  ],\n",
       "       [0.25, 0.  , 0.25, 0.  ],\n",
       "       [0.  , 0.25, 0.  , 0.25],\n",
       "       [0.  , 0.  , 0.  , 1.  ]])"
      ]
     },
     "execution_count": 149,
     "metadata": {},
     "output_type": "execute_result"
    }
   ],
   "source": [
    "tm**2"
   ]
  },
  {
   "cell_type": "code",
   "execution_count": 159,
   "metadata": {},
   "outputs": [
    {
     "data": {
      "image/png": "[encoded data removed]",
      "text/plain": [
       "<Figure size 432x288 with 1 Axes>"
      ]
     },
     "metadata": {
      "needs_background": "light"
     },
     "output_type": "display_data"
    }
   ],
   "source": [
    "plt.hist(np.random.normal(4.8,7.9,size=10000),bins=30)\n",
    "plt.show()"
   ]
  },
  {
   "cell_type": "code",
   "execution_count": 229,
   "metadata": {},
   "outputs": [
    {
     "name": "stdout",
     "output_type": "stream",
     "text": [
      "32425.289759714015\n"
     ]
    },
    {
     "data": {
      "image/png": "[encoded data removed]",
      "text/plain": [
       "<Figure size 432x288 with 1 Axes>"
      ]
     },
     "metadata": {
      "needs_background": "light"
     },
     "output_type": "display_data"
    }
   ],
   "source": [
    "a, m = 2, 35000\n",
    "salaries = [x for x in (np.random.pareto(a, 1000)) * m]\n",
    "\n",
    "print(np.mean(salaries))\n",
    "plt.hist(salaries,bins=30)\n",
    "plt.xticks(rotation=45)\n",
    "plt.show()"
   ]
  },
  {
   "cell_type": "code",
   "execution_count": 230,
   "metadata": {},
   "outputs": [
    {
     "name": "stdout",
     "output_type": "stream",
     "text": [
      "32425.181628377002\n"
     ]
    },
    {
     "data": {
      "image/png": "[encoded data removed]",
      "text/plain": [
       "<Figure size 432x288 with 1 Axes>"
      ]
     },
     "metadata": {
      "needs_background": "light"
     },
     "output_type": "display_data"
    }
   ],
   "source": [
    "avg_sal = []\n",
    "for i in range(100000):\n",
    "    x = np.mean(random.choices(salaries, k=500))\n",
    "    avg_sal.append(x)\n",
    "\n",
    "print(np.mean(avg_sal))\n",
    "plt.hist(avg_sal, bins=30)\n",
    "plt.show()"
   ]
  },
  {
   "cell_type": "code",
   "execution_count": null,
   "metadata": {},
   "outputs": [],
   "source": []
  }
 ],
 "metadata": {
  "kernelspec": {
   "display_name": "Python (fast_ai)",
   "language": "python",
   "name": "fast_ai"
  },
  "language_info": {
   "codemirror_mode": {
    "name": "ipython",
    "version": 3
   },
   "file_extension": ".py",
   "mimetype": "text/x-python",
   "name": "python",
   "nbconvert_exporter": "python",
   "pygments_lexer": "ipython3",
   "version": "3.7.3"
  }
 },
 "nbformat": 4,
 "nbformat_minor": 2
}
