{
 "cells": [
  {
   "cell_type": "markdown",
   "metadata": {},
   "source": [
    "### Bubble sort\n",
    "\n",
    "Bubble sort compares two adjacent members of a list and moves the right value to the left if the right value is greater, otherwise it leaves the two values as is. The algorithm will then compare the next two values which are the previous compares rightmost value and the value adjacent to this value. The compare operation will happen again until the algorithm has reached the end of the list. The algorithm will then loop back to the beginning and complete the same process."
   ]
  },
  {
   "cell_type": "code",
   "execution_count": 1,
   "metadata": {},
   "outputs": [],
   "source": [
    "import random\n",
    "\n",
    "def random_list(length):\n",
    "    values = []\n",
    "    for l in range(length):\n",
    "        values.append(random.randint(1,100))\n",
    "        \n",
    "    return values\n",
    "\n",
    "# bubble sort\n",
    "def bubble_sort(data):\n",
    "    count = 0\n",
    "    sorter = len(data) - 2\n",
    "\n",
    "    while count < sorter:\n",
    "        count += 1\n",
    "        for i in range(len(data)):\n",
    "            if i <= len(data) - 2 and data[i] > data[i+1]:\n",
    "                data[i], data[i+1] = data[i+1], data[i]\n",
    "                    \n",
    "    return data"
   ]
  },
  {
   "cell_type": "code",
   "execution_count": 98,
   "metadata": {},
   "outputs": [
    {
     "name": "stdout",
     "output_type": "stream",
     "text": [
      "[98, 16, 63, 61, 6, 20, 42, 64, 25, 56]\n"
     ]
    },
    {
     "data": {
      "text/plain": [
       "[6, 16, 20, 25, 42, 56, 61, 63, 64, 98]"
      ]
     },
     "execution_count": 98,
     "metadata": {},
     "output_type": "execute_result"
    }
   ],
   "source": [
    "values = random_list(10)\n",
    "print(values)\n",
    "\n",
    "bubble_sort(values)"
   ]
  },
  {
   "cell_type": "markdown",
   "metadata": {},
   "source": [
    "### Merge Sort\n",
    "\n",
    "Merge sort works by recursively breaking a list into halves until each member of the list is its own list. Since each member is a list of its own it is now sorted and ready to combine with other lists. Now each element is compared to its adjacent partner and merged with the lowest value on the left and the higher on the right. In the first stage two adjacent elements are compared, but in the next stage it will compare two adjacent lists of two elements. The algorithm will compare the first element of the first list with the first element of the second list. It will choose the lower of the two values to be first in new temporary list and then will compare the higher of the two values with the next value from the other list and repeat this operation. These steps repeat themselves until the original list is reconstructed from lowest to highest values. "
   ]
  },
  {
   "cell_type": "code",
   "execution_count": 107,
   "metadata": {},
   "outputs": [],
   "source": [
    "def merge(l,r):\n",
    "    tmp = []\n",
    "    i,j = 0,0\n",
    "    \n",
    "    while i<len(l) and j<len(r):\n",
    "        if l[i]<r[j]:\n",
    "            tmp.append(l[i])\n",
    "            i+=1\n",
    "        else:\n",
    "            tmp.append(r[j])\n",
    "            j+=1\n",
    "            \n",
    "    if i == len(l):\n",
    "        tmp.extend(r[j:])\n",
    "    else:\n",
    "        tmp.extend(l[i:])\n",
    "    \n",
    "    return tmp\n",
    "\n",
    "def merge_sort(data):\n",
    "    if len(data) <= 1: return data\n",
    "    \n",
    "    mid = len(data)//2\n",
    "    left = merge_sort(data[:mid])\n",
    "    right = merge_sort(data[mid:])\n",
    "    \n",
    "    return merge(left,right)\n",
    "        "
   ]
  },
  {
   "cell_type": "code",
   "execution_count": 108,
   "metadata": {},
   "outputs": [
    {
     "name": "stdout",
     "output_type": "stream",
     "text": [
      "[86, 60, 94, 60, 15, 28, 59, 26, 100, 63]\n"
     ]
    },
    {
     "data": {
      "text/plain": [
       "[15, 26, 28, 59, 60, 60, 63, 86, 94, 100]"
      ]
     },
     "execution_count": 108,
     "metadata": {},
     "output_type": "execute_result"
    }
   ],
   "source": [
    "merge_sort_values = random_list(10)\n",
    "print(merge_sort_values)\n",
    "merge_sort(merge_sort_values)"
   ]
  },
  {
   "cell_type": "code",
   "execution_count": 177,
   "metadata": {},
   "outputs": [],
   "source": []
  }
 ],
 "metadata": {
  "kernelspec": {
   "display_name": "Python 3",
   "language": "python",
   "name": "python3"
  },
  "language_info": {
   "codemirror_mode": {
    "name": "ipython",
    "version": 3
   },
   "file_extension": ".py",
   "mimetype": "text/x-python",
   "name": "python",
   "nbconvert_exporter": "python",
   "pygments_lexer": "ipython3",
   "version": "3.7.7"
  }
 },
 "nbformat": 4,
 "nbformat_minor": 2
}
