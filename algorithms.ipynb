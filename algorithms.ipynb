{
 "cells": [
  {
   "cell_type": "code",
   "execution_count": 3,
   "metadata": {},
   "outputs": [],
   "source": [
    "import random\n",
    "\n",
    "def random_list(length):\n",
    "    values = []\n",
    "    for l in range(length):\n",
    "        values.append(random.randint(1,100))\n",
    "        \n",
    "    return values\n",
    "\n",
    "# bubble sort\n",
    "def bubble_sort(data):\n",
    "    count = 0\n",
    "    sorter = len(data) - 2\n",
    "\n",
    "    while count < sorter:\n",
    "        count += 1\n",
    "        for i in range(len(data)):\n",
    "            if i <= len(data) - 2 and data[i] > data[i+1]:\n",
    "                data[i], data[i+1] = data[i+1], data[i]\n",
    "                    \n",
    "    return data"
   ]
  },
  {
   "cell_type": "code",
   "execution_count": 4,
   "metadata": {},
   "outputs": [
    {
     "name": "stdout",
     "output_type": "stream",
     "text": [
      "[51, 75, 44, 71, 26, 40, 77, 26, 68, 49]\n"
     ]
    },
    {
     "data": {
      "text/plain": [
       "[26, 26, 40, 44, 49, 51, 68, 71, 75, 77]"
      ]
     },
     "execution_count": 4,
     "metadata": {},
     "output_type": "execute_result"
    }
   ],
   "source": [
    "values = random_list(10)\n",
    "print(values)\n",
    "\n",
    "bubble_sort(values)"
   ]
  },
  {
   "cell_type": "code",
   "execution_count": null,
   "metadata": {},
   "outputs": [],
   "source": []
  }
 ],
 "metadata": {
  "kernelspec": {
   "display_name": "Python 3",
   "language": "python",
   "name": "python3"
  },
  "language_info": {
   "codemirror_mode": {
    "name": "ipython",
    "version": 3
   },
   "file_extension": ".py",
   "mimetype": "text/x-python",
   "name": "python",
   "nbconvert_exporter": "python",
   "pygments_lexer": "ipython3",
   "version": "3.7.7"
  }
 },
 "nbformat": 4,
 "nbformat_minor": 2
}
